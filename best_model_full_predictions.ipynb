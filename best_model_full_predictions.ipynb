{
 "cells": [
  {
   "cell_type": "markdown",
   "metadata": {},
   "source": [
    "# Netherlands Neurogenetics Database\n",
    "Author: Nienke Mekkes <br>\n",
    "Date: 9-Nov-2022. <br>\n",
    "Correspond: n.j.mekkes@umcg.nl <br>\n",
    "\n",
    "## Script: clinical history predictions\n",
    "Steps: <br>\n",
    "- (when model not yet trained: load cleaned training data)\n",
    "- (when model not yet trained: train model on cleaned training data using optimized hyperparameters)\n",
    "\n",
    "- load trained model (request authors or train own)\n",
    "- load full corpus of sentences (request from authors)\n",
    "- predict full corpus of sentences with loaded pretrained model\n",
    "- save predictions for further processing\n",
    "\n",
    "\n",
    "\n",
    "\n",
    "#### Paths"
   ]
  },
  {
   "cell_type": "code",
   "execution_count": null,
   "metadata": {},
   "outputs": [],
   "source": [
    "cleaned_training_data = \"\"\n",
    "predictions_output_path = \"\"\n",
    "full_corpus = \"\"\n",
    "location_of_best_model = \"\""
   ]
  },
  {
   "cell_type": "markdown",
   "metadata": {},
   "source": [
    "#### Minimal requirements"
   ]
  },
  {
   "cell_type": "code",
   "execution_count": null,
   "metadata": {},
   "outputs": [],
   "source": [
    "print('LOADING PACKAGES...')\n",
    "import seaborn as sns\n",
    "import pickle\n",
    "import logging, sys\n",
    "import matplotlib.pyplot as plt\n",
    "%matplotlib inline\n",
    "import csv#,random\n",
    "import optuna\n",
    "import pandas as pd\n",
    "import os, re#, string\n",
    "import numpy as np\n",
    "\n",
    "from adjustText import adjust_text\n",
    "\n",
    "from iterstrat.ml_stratifiers import MultilabelStratifiedKFold\n",
    "from sklearn.metrics import accuracy_score,f1_score,roc_auc_score,precision_score,recall_score,classification_report \n",
    "\n",
    "import torch\n",
    "from collections import Counter\n",
    "\n",
    "from openpyxl import load_workbook, Workbook\n",
    "import xlsxwriter\n",
    "\n",
    "import joblib\n",
    "from datetime import date\n",
    "# import kaleido\n",
    "# import plotly\n",
    "\n",
    "from optuna.visualization import plot_contour,plot_edf,plot_intermediate_values,plot_optimization_history\n",
    "from optuna.visualization import plot_parallel_coordinate,plot_param_importances,plot_slice"
   ]
  },
  {
   "cell_type": "code",
   "execution_count": null,
   "metadata": {},
   "outputs": [],
   "source": [
    "from simpletransformers.classification import MultiLabelClassificationModel, MultiLabelClassificationArgs"
   ]
  },
  {
   "cell_type": "markdown",
   "metadata": {},
   "source": [
    "#### load data"
   ]
  },
  {
   "cell_type": "code",
   "execution_count": null,
   "metadata": {},
   "outputs": [],
   "source": [
    "if not os.path.exists(predictions_output_path):\n",
    "    os.makedirs(predictions_output_path)\n",
    "    print(\"creating predictions directory\")\n",
    "\n",
    "if not os.path.exists(location_of_best_model):\n",
    "    os.makedirs(location_of_best_model)\n",
    "    print(\"creating model directory\")\n",
    "\n",
    "df_train = pd.read_excel(cleaned_training_data, engine='openpyxl', index_col=[0])"
   ]
  },
  {
   "cell_type": "code",
   "execution_count": null,
   "metadata": {},
   "outputs": [],
   "source": [
    "## get the column names to make predictions df human readable\n",
    "non_attribute_columns = ['NBB_nr','Year_Sentence_nr','Sentence']\n",
    "attributes = [col for col in df_train.columns if col not in non_attribute_columns]\n",
    "print(attributes)"
   ]
  },
  {
   "cell_type": "code",
   "execution_count": null,
   "metadata": {},
   "outputs": [],
   "source": [
    "## optional, only when still need to train\n",
    "df_train['labels'] = [x for x in df_train[attributes].to_numpy()]\n",
    "df_train = df_train[['Sentence','labels']]\n",
    "display(df_train)"
   ]
  },
  {
   "cell_type": "code",
   "execution_count": null,
   "metadata": {},
   "outputs": [],
   "source": [
    "## set model args\n",
    "model_args_bert = { \"do_lower_case\": True, \n",
    "       \"fp16\": True,\n",
    "       \"learning_rate\":  5.12e-05, \n",
    "       \"manual_seed\": 2,\n",
    "       \"max_seq_length\": 300, \n",
    "       \"num_train_epochs\": 33,\n",
    "       \"output_dir\": location_of_best_model,\n",
    "       \"overwrite_output_dir\": True,\n",
    "       \"reprocess_input_data\" : True,\n",
    "       \"save_eval_checkpoints\":False,\n",
    "       \"save_model_every_epoch\":False,\n",
    "       \"save_optimizer_and_scheduler\":False,\n",
    "       \"save_steps\": -1,\n",
    "       \"silent\":False,\n",
    "       \"train_batch_size\": 16,  \n",
    "       \"use_multiprocessing\": True,\n",
    "       \"wandb_project\": 'predict',\n",
    "       \"threshold\":0.6\n",
    "\n",
    " }"
   ]
  },
  {
   "cell_type": "code",
   "execution_count": null,
   "metadata": {},
   "outputs": [],
   "source": [
    "# ## ONLY RUN IF YOUR MODEL IS NOT YET TRAINED!\n",
    "# model = MultiLabelClassificationModel('bert', ## \"bert\" or \"t5\"\n",
    "#                                       \"microsoft/BiomedNLP-PubMedBERT-base-uncased-abstract\", ## \"modelname from huggingface\"\n",
    "#                                       args=model_args_bert,\n",
    "#                                       use_cuda=True,\n",
    "#                                       num_labels=90)\n",
    "\n",
    "# model.train_model(df_train[['Sentence','labels']])"
   ]
  },
  {
   "cell_type": "code",
   "execution_count": null,
   "metadata": {},
   "outputs": [],
   "source": [
    "## LOAD ALREADY TRAINED MODEL\n",
    "model = MultiLabelClassificationModel('bert', ## \"bert\" or \"t5\"\n",
    "                                      location_of_best_model, ## \"modelname from huggingface\"\n",
    "                                      args=model_args_bert,\n",
    "                                      use_cuda=False,#True,\n",
    "                                      num_labels=90) "
   ]
  },
  {
   "cell_type": "markdown",
   "metadata": {},
   "source": [
    "##### load sentences to predict"
   ]
  },
  {
   "cell_type": "code",
   "execution_count": null,
   "metadata": {},
   "outputs": [],
   "source": [
    "full_corpus_df = pd.read_excel(full_corpus, engine='openpyxl', index_col=None)"
   ]
  },
  {
   "cell_type": "code",
   "execution_count": null,
   "metadata": {},
   "outputs": [],
   "source": [
    "df_predict = full_corpus_df.copy()\n",
    "df_predict"
   ]
  },
  {
   "cell_type": "markdown",
   "metadata": {},
   "source": [
    "##### predict"
   ]
  },
  {
   "cell_type": "code",
   "execution_count": null,
   "metadata": {},
   "outputs": [],
   "source": [
    "ps = df_predict['Sentence'].values\n",
    "# Some values are interpreted as double/int, they should be converted to str\n",
    "ps = [str(i) for i in list(ps)]"
   ]
  },
  {
   "cell_type": "code",
   "execution_count": null,
   "metadata": {},
   "outputs": [],
   "source": [
    "p, raw_outputs = model.predict(list(ps))"
   ]
  },
  {
   "cell_type": "markdown",
   "metadata": {},
   "source": [
    "##### save"
   ]
  },
  {
   "cell_type": "code",
   "execution_count": null,
   "metadata": {},
   "outputs": [],
   "source": [
    "df_final_predictions.to_excel(f\"{predictions_output_path}/predictions_{date.today()}.xlsx\")\n"
   ]
  }
 ],
 "metadata": {
  "kernelspec": {
   "display_name": "clinical_history",
   "language": "python",
   "name": "clinical_history"
  },
  "language_info": {
   "codemirror_mode": {
    "name": "ipython",
    "version": 3
   },
   "file_extension": ".py",
   "mimetype": "text/x-python",
   "name": "python",
   "nbconvert_exporter": "python",
   "pygments_lexer": "ipython3",
   "version": "3.11.0"
  }
 },
 "nbformat": 4,
 "nbformat_minor": 4
}
