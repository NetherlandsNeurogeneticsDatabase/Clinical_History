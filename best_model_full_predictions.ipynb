{
 "cells": [
  {
   "cell_type": "markdown",
   "metadata": {},
   "source": [
    "# Netherlands Neurogenetics Database\n",
    "Author: Nienke Mekkes <br>\n",
    "Date: 9-Nov-2022. <br>\n",
    "Correspond: n.j.mekkes@umcg.nl <br>\n",
    "\n",
    "## Script: clinical history predictions\n",
    "Steps: <br>\n",
    "- (when model not yet trained: load cleaned training data)\n",
    "- (when model not yet trained: train model on cleaned training data using optimized hyperparameters)\n",
    "\n",
    "- load trained model (request authors or train own)\n",
    "- load full corpus of sentences (request from authors)\n",
    "- predict full corpus of sentences with loaded pretrained model\n",
    "- save predictions for further processing\n",
    "\n",
    "\n",
    "\n",
    "\n",
    "#### Paths"
   ]
  },
  {
   "cell_type": "code",
   "execution_count": 1,
   "metadata": {},
   "outputs": [],
   "source": [
    "cleaned_training_data = \"\"\n",
    "predictions_output_path = \"\"\n",
    "full_corpus = \"\"\n",
    "location_of_best_model = \"\""
   ]
  },
  {
   "cell_type": "markdown",
   "metadata": {},
   "source": [
    "#### Minimal requirements"
   ]
  },
  {
   "cell_type": "code",
   "execution_count": 2,
   "metadata": {},
   "outputs": [
    {
     "name": "stdout",
     "output_type": "stream",
     "text": [
      "LOADING PACKAGES...\n"
     ]
    }
   ],
   "source": [
    "print('LOADING PACKAGES...')\n",
    "import seaborn as sns\n",
    "import pickle\n",
    "import logging, sys\n",
    "import matplotlib.pyplot as plt\n",
    "%matplotlib inline\n",
    "import csv#,random\n",
    "import optuna\n",
    "import pandas as pd\n",
    "import os, re#, string\n",
    "import numpy as np\n",
    "\n",
    "from adjustText import adjust_text\n",
    "\n",
    "from iterstrat.ml_stratifiers import MultilabelStratifiedKFold\n",
    "from sklearn.metrics import accuracy_score,f1_score,roc_auc_score,precision_score,recall_score,classification_report \n",
    "\n",
    "import torch\n",
    "from collections import Counter\n",
    "\n",
    "from openpyxl import load_workbook, Workbook\n",
    "import xlsxwriter\n",
    "\n",
    "import joblib\n",
    "from datetime import date\n",
    "# import kaleido\n",
    "# import plotly\n",
    "\n",
    "from optuna.visualization import plot_contour,plot_edf,plot_intermediate_values,plot_optimization_history\n",
    "from optuna.visualization import plot_parallel_coordinate,plot_param_importances,plot_slice"
   ]
  },
  {
   "cell_type": "code",
   "execution_count": 3,
   "metadata": {},
   "outputs": [],
   "source": [
    "from simpletransformers.classification import MultiLabelClassificationModel, MultiLabelClassificationArgs"
   ]
  },
  {
   "cell_type": "markdown",
   "metadata": {},
   "source": [
    "#### load data"
   ]
  },
  {
   "cell_type": "code",
   "execution_count": 4,
   "metadata": {},
   "outputs": [],
   "source": [
    "if not os.path.exists(predictions_output_path):\n",
    "    os.makedirs(predictions_output_path)\n",
    "    print(\"creating predictions directory\")\n",
    "\n",
    "if not os.path.exists(location_of_best_model):\n",
    "    os.makedirs(location_of_best_model)\n",
    "    print(\"creating model directory\")\n",
    "\n",
    "df_train = pd.read_excel(cleaned_training_data, engine='openpyxl', index_col=[0])"
   ]
  },
  {
   "cell_type": "code",
   "execution_count": 5,
   "metadata": {},
   "outputs": [
    {
     "name": "stdout",
     "output_type": "stream",
     "text": [
      "['Muscular_Weakness', 'Spasticity', 'Hyperreflexia_and_oth_reflexes', 'Frontal_release_signs', 'Fasciculations', 'Positive_sensory_symptoms', 'Negative_sensory_symptoms', 'Parkinsonism', 'Facial_masking', 'Tremor', 'Bradykinesia', 'Rigidity', 'Vertigo', 'Nystagmus', 'Ataxia', 'Loss_of_coordination', 'Balance_problems', 'Frequent_falls', 'Decreased_motor_skills', 'Unspecified_disturbed_gait_patt', 'Mobility_problems', 'Dementia', 'Cognitive_decline', 'Bradyphrenia', 'Lack_of_insight', 'Facade_behavior', 'Head_turning_sign', 'Memory_impairment', 'Amnesia', 'Forgetfulness', 'Imprinting_disturbances', 'Impaired_recognition', 'Confabulations', 'Disorientation', 'Wandering', 'Confusion', 'Aphasia', 'Word_finding_problems', 'Language_impairment', 'Impaired_comprehension', 'Communication_problems', 'Dysarthria', 'Apraxia', 'Executive_function_disorder', 'Lack_of_planning_organis_overv', 'Concentration_problems', 'Disinhibition', 'Loss_of_decorum', 'Apathy_inertia', 'Lack_of_initiative', 'Loss_of_sympathy_empathy', 'Compulsive_behavior', 'Hyperorality', 'Changed_moods_emotions', 'Changed_behavior_personality', 'Agitation', 'Aggressive_behavior', 'Stress', 'Anxiety', 'Depressed_mood', 'Suicidal_ideation', 'Mania', 'Psychosis', 'Psychiatric_admissions', 'Paranoia_suspiciousness', 'Hallucinations', 'Delusions', 'Delirium', 'Day_night_rhythm_disturbances', 'Sleep_disturbances', 'Restlessness', 'Vivid_dreaming', 'Hearing_problems', 'Visual_problems', 'Olfactory_gustatory_dysfunction', 'Urinary_incontinence', 'Urinary_problems_other', 'Constipation', 'Swallowing_problems_Dysphagia', 'Seizures', 'Orthostatic_hypotension', 'Headache_migraine', 'Fatigue', 'Declined_deteriorated_health', 'Cachexia', 'Weight_loss', 'Reduces_oral_intake', 'Help_in_ADL', 'Day_care', 'Admission_to_nursing_home']\n"
     ]
    }
   ],
   "source": [
    "## get the column names to make predictions df human readable\n",
    "non_attribute_columns = ['NBB_nr','Year_Sentence_nr','Sentence']\n",
    "attributes = [col for col in df_train.columns if col not in non_attribute_columns]\n",
    "print(attributes)"
   ]
  },
  {
   "cell_type": "code",
   "execution_count": 6,
   "metadata": {},
   "outputs": [
    {
     "data": {
      "text/html": [
       "<div>\n",
       "<style scoped>\n",
       "    .dataframe tbody tr th:only-of-type {\n",
       "        vertical-align: middle;\n",
       "    }\n",
       "\n",
       "    .dataframe tbody tr th {\n",
       "        vertical-align: top;\n",
       "    }\n",
       "\n",
       "    .dataframe thead th {\n",
       "        text-align: right;\n",
       "    }\n",
       "</style>\n",
       "<table border=\"1\" class=\"dataframe\">\n",
       "  <thead>\n",
       "    <tr style=\"text-align: right;\">\n",
       "      <th></th>\n",
       "      <th>Sentence</th>\n",
       "      <th>labels</th>\n",
       "    </tr>\n",
       "  </thead>\n",
       "  <tbody>\n",
       "    <tr>\n",
       "      <th>0</th>\n",
       "      <td>Past: The patient was known to have atrial fib...</td>\n",
       "      <td>[0, 0, 0, 0, 0, 0, 0, 0, 0, 0, 0, 0, 0, 0, 0, ...</td>\n",
       "    </tr>\n",
       "    <tr>\n",
       "      <th>1</th>\n",
       "      <td>The patient was known to have hypertension and...</td>\n",
       "      <td>[0, 0, 0, 0, 0, 0, 0, 0, 0, 0, 0, 0, 0, 0, 0, ...</td>\n",
       "    </tr>\n",
       "    <tr>\n",
       "      <th>2</th>\n",
       "      <td>1979: She got a total hip</td>\n",
       "      <td>[0, 0, 0, 0, 0, 0, 0, 0, 0, 0, 0, 0, 0, 0, 0, ...</td>\n",
       "    </tr>\n",
       "    <tr>\n",
       "      <th>3</th>\n",
       "      <td>At age 76 the first demential symptomes appeared</td>\n",
       "      <td>[0, 0, 0, 0, 0, 0, 0, 0, 0, 0, 0, 0, 0, 0, 0, ...</td>\n",
       "    </tr>\n",
       "    <tr>\n",
       "      <th>4</th>\n",
       "      <td>After the death of her husband homesituation w...</td>\n",
       "      <td>[0, 0, 0, 0, 0, 0, 0, 0, 0, 0, 0, 0, 0, 0, 0, ...</td>\n",
       "    </tr>\n",
       "    <tr>\n",
       "      <th>...</th>\n",
       "      <td>...</td>\n",
       "      <td>...</td>\n",
       "    </tr>\n",
       "    <tr>\n",
       "      <th>19049</th>\n",
       "      <td>The patient himself did not recognize himself ...</td>\n",
       "      <td>[0, 0, 0, 0, 0, 0, 0, 0, 0, 0, 0, 0, 0, 0, 0, ...</td>\n",
       "    </tr>\n",
       "    <tr>\n",
       "      <th>19050</th>\n",
       "      <td>In July and August he suffered from deliria po...</td>\n",
       "      <td>[0, 0, 0, 0, 0, 0, 0, 0, 0, 0, 0, 0, 0, 0, 0, ...</td>\n",
       "    </tr>\n",
       "    <tr>\n",
       "      <th>19051</th>\n",
       "      <td>In August the GP reported that it was impossib...</td>\n",
       "      <td>[0, 0, 0, 0, 0, 0, 0, 0, 0, 0, 0, 0, 0, 0, 0, ...</td>\n",
       "    </tr>\n",
       "    <tr>\n",
       "      <th>19052</th>\n",
       "      <td>This was a reason why a hospice turned down an...</td>\n",
       "      <td>[0, 0, 0, 0, 0, 0, 0, 0, 0, 0, 0, 0, 0, 0, 0, ...</td>\n",
       "    </tr>\n",
       "    <tr>\n",
       "      <th>19053</th>\n",
       "      <td>In September the patient was euthanized and de...</td>\n",
       "      <td>[0, 0, 0, 0, 0, 0, 0, 0, 0, 0, 0, 0, 0, 0, 0, ...</td>\n",
       "    </tr>\n",
       "  </tbody>\n",
       "</table>\n",
       "<p>18917 rows × 2 columns</p>\n",
       "</div>"
      ],
      "text/plain": [
       "                                                Sentence  \\\n",
       "0      Past: The patient was known to have atrial fib...   \n",
       "1      The patient was known to have hypertension and...   \n",
       "2                              1979: She got a total hip   \n",
       "3       At age 76 the first demential symptomes appeared   \n",
       "4      After the death of her husband homesituation w...   \n",
       "...                                                  ...   \n",
       "19049  The patient himself did not recognize himself ...   \n",
       "19050  In July and August he suffered from deliria po...   \n",
       "19051  In August the GP reported that it was impossib...   \n",
       "19052  This was a reason why a hospice turned down an...   \n",
       "19053  In September the patient was euthanized and de...   \n",
       "\n",
       "                                                  labels  \n",
       "0      [0, 0, 0, 0, 0, 0, 0, 0, 0, 0, 0, 0, 0, 0, 0, ...  \n",
       "1      [0, 0, 0, 0, 0, 0, 0, 0, 0, 0, 0, 0, 0, 0, 0, ...  \n",
       "2      [0, 0, 0, 0, 0, 0, 0, 0, 0, 0, 0, 0, 0, 0, 0, ...  \n",
       "3      [0, 0, 0, 0, 0, 0, 0, 0, 0, 0, 0, 0, 0, 0, 0, ...  \n",
       "4      [0, 0, 0, 0, 0, 0, 0, 0, 0, 0, 0, 0, 0, 0, 0, ...  \n",
       "...                                                  ...  \n",
       "19049  [0, 0, 0, 0, 0, 0, 0, 0, 0, 0, 0, 0, 0, 0, 0, ...  \n",
       "19050  [0, 0, 0, 0, 0, 0, 0, 0, 0, 0, 0, 0, 0, 0, 0, ...  \n",
       "19051  [0, 0, 0, 0, 0, 0, 0, 0, 0, 0, 0, 0, 0, 0, 0, ...  \n",
       "19052  [0, 0, 0, 0, 0, 0, 0, 0, 0, 0, 0, 0, 0, 0, 0, ...  \n",
       "19053  [0, 0, 0, 0, 0, 0, 0, 0, 0, 0, 0, 0, 0, 0, 0, ...  \n",
       "\n",
       "[18917 rows x 2 columns]"
      ]
     },
     "metadata": {},
     "output_type": "display_data"
    }
   ],
   "source": [
    "## optional, only when still need to train\n",
    "df_train['labels'] = [x for x in df_train[attributes].to_numpy()]\n",
    "df_train = df_train[['Sentence','labels']]\n",
    "display(df_train)"
   ]
  },
  {
   "cell_type": "code",
   "execution_count": 7,
   "metadata": {},
   "outputs": [],
   "source": [
    "## set model args\n",
    "model_args_bert = { \"do_lower_case\": True, \n",
    "       \"fp16\": True,\n",
    "       \"learning_rate\":  5.12e-05, \n",
    "       \"manual_seed\": 2,\n",
    "       \"max_seq_length\": 300, \n",
    "       \"num_train_epochs\": 33,\n",
    "       \"output_dir\": location_of_best_model,\n",
    "       \"overwrite_output_dir\": True,\n",
    "       \"reprocess_input_data\" : True,\n",
    "       \"save_eval_checkpoints\":False,\n",
    "       \"save_model_every_epoch\":False,\n",
    "       \"save_optimizer_and_scheduler\":False,\n",
    "       \"save_steps\": -1,\n",
    "       \"silent\":False,\n",
    "       \"train_batch_size\": 16,  \n",
    "       \"use_multiprocessing\": True,\n",
    "       \"wandb_project\": 'predict',\n",
    "       \"threshold\":0.6\n",
    "\n",
    " }"
   ]
  },
  {
   "cell_type": "code",
   "execution_count": 8,
   "metadata": {},
   "outputs": [],
   "source": [
    "# ## ONLY RUN IF YOUR MODEL IS NOT YET TRAINED!\n",
    "# model = MultiLabelClassificationModel('bert', ## \"bert\" or \"t5\"\n",
    "#                                       \"microsoft/BiomedNLP-PubMedBERT-base-uncased-abstract\", ## \"modelname from huggingface\"\n",
    "#                                       args=model_args_bert,\n",
    "#                                       use_cuda=True,\n",
    "#                                       num_labels=90)\n",
    "\n",
    "# model.train_model(df_train[['Sentence','labels']])"
   ]
  },
  {
   "cell_type": "code",
   "execution_count": 8,
   "metadata": {},
   "outputs": [],
   "source": [
    "## LOAD ALREADY TRAINED MODEL\n",
    "model = MultiLabelClassificationModel('bert', ## \"bert\" or \"t5\"\n",
    "                                      location_of_best_model, ## \"modelname from huggingface\"\n",
    "                                      args=model_args_bert,\n",
    "                                      use_cuda=False,#True,\n",
    "                                      num_labels=90) "
   ]
  },
  {
   "cell_type": "markdown",
   "metadata": {},
   "source": [
    "##### load sentences to predict"
   ]
  },
  {
   "cell_type": "code",
   "execution_count": 9,
   "metadata": {},
   "outputs": [],
   "source": [
    "full_corpus_df = pd.read_excel(full_corpus, engine='openpyxl', index_col=None)"
   ]
  },
  {
   "cell_type": "code",
   "execution_count": 10,
   "metadata": {},
   "outputs": [
    {
     "data": {
      "text/html": [
       "<div>\n",
       "<style scoped>\n",
       "    .dataframe tbody tr th:only-of-type {\n",
       "        vertical-align: middle;\n",
       "    }\n",
       "\n",
       "    .dataframe tbody tr th {\n",
       "        vertical-align: top;\n",
       "    }\n",
       "\n",
       "    .dataframe thead th {\n",
       "        text-align: right;\n",
       "    }\n",
       "</style>\n",
       "<table border=\"1\" class=\"dataframe\">\n",
       "  <thead>\n",
       "    <tr style=\"text-align: right;\">\n",
       "      <th></th>\n",
       "      <th>DonorID</th>\n",
       "      <th>Year</th>\n",
       "      <th>Sentence_number</th>\n",
       "      <th>Sentence</th>\n",
       "    </tr>\n",
       "  </thead>\n",
       "  <tbody>\n",
       "    <tr>\n",
       "      <th>0</th>\n",
       "      <td>NBB 1997-127</td>\n",
       "      <td>past:</td>\n",
       "      <td>1</td>\n",
       "      <td>Past:</td>\n",
       "    </tr>\n",
       "    <tr>\n",
       "      <th>1</th>\n",
       "      <td>NBB 1997-127</td>\n",
       "      <td>past:</td>\n",
       "      <td>2</td>\n",
       "      <td>Appendectomy</td>\n",
       "    </tr>\n",
       "    <tr>\n",
       "      <th>2</th>\n",
       "      <td>NBB 1997-127</td>\n",
       "      <td>1996</td>\n",
       "      <td>3</td>\n",
       "      <td>1996:</td>\n",
       "    </tr>\n",
       "    <tr>\n",
       "      <th>3</th>\n",
       "      <td>NBB 1997-127</td>\n",
       "      <td>1996</td>\n",
       "      <td>4</td>\n",
       "      <td>Diagnosed with a metastasized adenocarcinoma, ...</td>\n",
       "    </tr>\n",
       "    <tr>\n",
       "      <th>4</th>\n",
       "      <td>NBB 1997-127</td>\n",
       "      <td>1997</td>\n",
       "      <td>5</td>\n",
       "      <td>1997:</td>\n",
       "    </tr>\n",
       "    <tr>\n",
       "      <th>...</th>\n",
       "      <td>...</td>\n",
       "      <td>...</td>\n",
       "      <td>...</td>\n",
       "      <td>...</td>\n",
       "    </tr>\n",
       "    <tr>\n",
       "      <th>213526</th>\n",
       "      <td>NBB 2006-047</td>\n",
       "      <td>2001</td>\n",
       "      <td>13</td>\n",
       "      <td>Sensibility was intact.</td>\n",
       "    </tr>\n",
       "    <tr>\n",
       "      <th>213527</th>\n",
       "      <td>NBB 2006-047</td>\n",
       "      <td>2001</td>\n",
       "      <td>12</td>\n",
       "      <td>There were scattered fasciculations.</td>\n",
       "    </tr>\n",
       "    <tr>\n",
       "      <th>213528</th>\n",
       "      <td>NBB 2006-047</td>\n",
       "      <td>2001</td>\n",
       "      <td>11</td>\n",
       "      <td>There was muscle atrophy distally more than pr...</td>\n",
       "    </tr>\n",
       "    <tr>\n",
       "      <th>213529</th>\n",
       "      <td>NBB 2006-047</td>\n",
       "      <td>2001</td>\n",
       "      <td>10</td>\n",
       "      <td>Patient was, by lessened strength in his right...</td>\n",
       "    </tr>\n",
       "    <tr>\n",
       "      <th>213530</th>\n",
       "      <td>NBB 2006-047</td>\n",
       "      <td>2001</td>\n",
       "      <td>9</td>\n",
       "      <td>Cervical MRI showed no deviances as well as X-...</td>\n",
       "    </tr>\n",
       "  </tbody>\n",
       "</table>\n",
       "<p>213531 rows × 4 columns</p>\n",
       "</div>"
      ],
      "text/plain": [
       "             DonorID   Year  Sentence_number  \\\n",
       "0       NBB 1997-127  past:                1   \n",
       "1       NBB 1997-127  past:                2   \n",
       "2       NBB 1997-127   1996                3   \n",
       "3       NBB 1997-127   1996                4   \n",
       "4       NBB 1997-127   1997                5   \n",
       "...              ...    ...              ...   \n",
       "213526  NBB 2006-047   2001               13   \n",
       "213527  NBB 2006-047   2001               12   \n",
       "213528  NBB 2006-047   2001               11   \n",
       "213529  NBB 2006-047   2001               10   \n",
       "213530  NBB 2006-047   2001                9   \n",
       "\n",
       "                                                 Sentence  \n",
       "0                                                   Past:  \n",
       "1                                            Appendectomy  \n",
       "2                                                   1996:  \n",
       "3       Diagnosed with a metastasized adenocarcinoma, ...  \n",
       "4                                                   1997:  \n",
       "...                                                   ...  \n",
       "213526                            Sensibility was intact.  \n",
       "213527               There were scattered fasciculations.  \n",
       "213528  There was muscle atrophy distally more than pr...  \n",
       "213529  Patient was, by lessened strength in his right...  \n",
       "213530  Cervical MRI showed no deviances as well as X-...  \n",
       "\n",
       "[213531 rows x 4 columns]"
      ]
     },
     "execution_count": 10,
     "metadata": {},
     "output_type": "execute_result"
    }
   ],
   "source": [
    "df_predict = full_corpus_df.copy()\n",
    "df_predict"
   ]
  },
  {
   "cell_type": "markdown",
   "metadata": {},
   "source": [
    "##### predict"
   ]
  },
  {
   "cell_type": "code",
   "execution_count": 12,
   "metadata": {},
   "outputs": [],
   "source": [
    "ps = df_predict['Sentence'].values\n",
    "# Some values are interpreted as double/int, they should be converted to str\n",
    "ps = [str(i) for i in list(ps)]"
   ]
  },
  {
   "cell_type": "code",
   "execution_count": null,
   "metadata": {},
   "outputs": [
    {
     "data": {
      "application/vnd.jupyter.widget-view+json": {
       "model_id": "abbfb14addba45eab64723118e89e212",
       "version_major": 2,
       "version_minor": 0
      },
      "text/plain": [
       "  0%|          | 0/200188 [00:00<?, ?it/s]"
      ]
     },
     "metadata": {},
     "output_type": "display_data"
    }
   ],
   "source": [
    "p, raw_outputs = model.predict(list(ps))"
   ]
  },
  {
   "cell_type": "markdown",
   "metadata": {},
   "source": [
    "##### save"
   ]
  },
  {
   "cell_type": "code",
   "execution_count": null,
   "metadata": {},
   "outputs": [],
   "source": [
    "df_final_predictions.to_excel(f\"{predictions_output_path}/predictions_{date.today()}.xlsx\")\n"
   ]
  }
 ],
 "metadata": {
  "kernelspec": {
   "display_name": "clinical_history",
   "language": "python",
   "name": "clinical_history"
  },
  "language_info": {
   "codemirror_mode": {
    "name": "ipython",
    "version": 3
   },
   "file_extension": ".py",
   "mimetype": "text/x-python",
   "name": "python",
   "nbconvert_exporter": "python",
   "pygments_lexer": "ipython3",
   "version": "3.11.0"
  }
 },
 "nbformat": 4,
 "nbformat_minor": 4
}
